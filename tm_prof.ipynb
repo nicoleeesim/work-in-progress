{
 "cells": [
  {
   "cell_type": "markdown",
   "metadata": {},
   "source": [
    "# Text Analytics"
   ]
  },
  {
   "cell_type": "code",
   "execution_count": 1,
   "metadata": {},
   "outputs": [
    {
     "name": "stderr",
     "output_type": "stream",
     "text": [
      "C:\\Users\\swapnag\\AppData\\Local\\Continuum\\anaconda3\\lib\\site-packages\\gensim\\utils.py:1197: UserWarning: detected Windows; aliasing chunkize to chunkize_serial\n",
      "  warnings.warn(\"detected Windows; aliasing chunkize to chunkize_serial\")\n"
     ]
    }
   ],
   "source": [
    "import preprocess2\n",
    "sg_corpus = preprocess2.load_corpus('./SGNews')\n",
    "sg_docs = preprocess2.corpus2docs(sg_corpus)\n",
    "\n",
    "import gensim\n",
    "sg_dictionary = gensim.corpora.Dictionary(sg_docs)\n",
    "sg_vecs = preprocess2.docs2vecs(sg_docs, sg_dictionary)"
   ]
  },
  {
   "cell_type": "markdown",
   "metadata": {},
   "source": [
    "Now we are ready to perform LDA on the document vectors `sg_vecs`.\n",
    "The code below shows how to call the function. Note that this will\n",
    "also take a while to finish."
   ]
  },
  {
   "cell_type": "code",
   "execution_count": 2,
   "metadata": {
    "collapsed": true
   },
   "outputs": [],
   "source": [
    "#I used 10 topics. You can try other numbers as well\n",
    "sg_lda = gensim.models.ldamodel.LdaModel(corpus=sg_vecs, id2word=sg_dictionary, num_topics=10)\n"
   ]
  },
  {
   "cell_type": "markdown",
   "metadata": {},
   "source": [
    "The variable `sg_lda` now stores the 10 learned topics.\n",
    "\n",
    "To inspect these learned topics, we can use a function called `show_topics`.\n",
    "This function allows us to specifiy how many topics we want to inspect and for each topic how many top words we want to include.\n",
    "Let us use `show_topics(10, 15)` to choose all 10 topics and for each topic we choose the top-15 most frequent words.\n",
    "Then we can display the topics one by one. For each topic, we see a list of words together with their probabilities shown."
   ]
  },
  {
   "cell_type": "code",
   "execution_count": 3,
   "metadata": {
    "scrolled": true
   },
   "outputs": [
    {
     "name": "stdout",
     "output_type": "stream",
     "text": [
      "(0, '0.003*\"time\" + 0.003*\"years\" + 0.003*\"french\" + 0.002*\"us\" + 0.002*\"france\" + 0.002*\"team\" + 0.002*\"back\" + 0.002*\"win\" + 0.002*\"queen\" + 0.002*\"get\" + 0.002*\"second\" + 0.002*\"paris\" + 0.002*\"made\" + 0.002*\"think\" + 0.002*\"season\"')\n",
      "(1, '0.004*\"us\" + 0.003*\"time\" + 0.003*\"london\" + 0.003*\"united\" + 0.003*\"think\" + 0.002*\"title\" + 0.002*\"years\" + 0.002*\"city\" + 0.002*\"china\" + 0.002*\"going\" + 0.002*\"win\" + 0.002*\"way\" + 0.002*\"back\" + 0.002*\"million\" + 0.002*\"made\"')\n",
      "(2, '0.010*\"obama\" + 0.008*\"us\" + 0.007*\"romney\" + 0.004*\"breivik\" + 0.004*\"president\" + 0.003*\"police\" + 0.003*\"former\" + 0.003*\"years\" + 0.003*\"court\" + 0.003*\"republican\" + 0.003*\"united\" + 0.003*\"campaign\" + 0.003*\"mr\" + 0.002*\"million\" + 0.002*\"gay\"')\n",
      "(3, '0.010*\"killed\" + 0.005*\"security\" + 0.005*\"us\" + 0.004*\"police\" + 0.004*\"forces\" + 0.004*\"city\" + 0.003*\"attacks\" + 0.003*\"afp\" + 0.003*\"government\" + 0.003*\"afghan\" + 0.003*\"afghanistan\" + 0.003*\"fire\" + 0.003*\"town\" + 0.003*\"attack\" + 0.003*\"reported\"')\n",
      "(4, '0.003*\"years\" + 0.002*\"many\" + 0.002*\"games\" + 0.002*\"time\" + 0.002*\"city\" + 0.002*\"get\" + 0.002*\"even\" + 0.002*\"around\" + 0.002*\"million\" + 0.002*\"online\" + 0.002*\"team\" + 0.002*\"says\" + 0.002*\"still\" + 0.002*\"found\" + 0.002*\"us\"')\n",
      "(5, '0.009*\"per\" + 0.009*\"cent\" + 0.008*\"us\" + 0.003*\"observatory\" + 0.003*\"iran\" + 0.003*\"time\" + 0.003*\"years\" + 0.002*\"million\" + 0.002*\"states\" + 0.002*\"country\" + 0.002*\"united\" + 0.002*\"according\" + 0.002*\"hollande\" + 0.002*\"france\" + 0.002*\"israel\"')\n",
      "(6, '0.004*\"police\" + 0.004*\"football\" + 0.003*\"team\" + 0.003*\"league\" + 0.003*\"match\" + 0.003*\"city\" + 0.002*\"million\" + 0.002*\"players\" + 0.002*\"car\" + 0.002*\"group\" + 0.002*\"champions\" + 0.002*\"former\" + 0.002*\"colorado\" + 0.002*\"years\" + 0.002*\"game\"')\n",
      "(7, '0.009*\"syria\" + 0.006*\"government\" + 0.005*\"syrian\" + 0.005*\"assad\" + 0.005*\"president\" + 0.004*\"minister\" + 0.004*\"damascus\" + 0.003*\"international\" + 0.003*\"russia\" + 0.003*\"per\" + 0.003*\"country\" + 0.003*\"crisis\" + 0.003*\"plan\" + 0.003*\"council\" + 0.003*\"euro\"')\n",
      "(8, '0.006*\"president\" + 0.005*\"china\" + 0.005*\"us\" + 0.004*\"government\" + 0.004*\"military\" + 0.004*\"minister\" + 0.004*\"police\" + 0.004*\"party\" + 0.003*\"political\" + 0.003*\"security\" + 0.003*\"news\" + 0.003*\"country\" + 0.003*\"syrian\" + 0.003*\"state\" + 0.003*\"election\"')\n",
      "(9, '0.008*\"mr\" + 0.007*\"police\" + 0.004*\"man\" + 0.004*\"ldquo\" + 0.003*\"rdquo\" + 0.003*\"court\" + 0.003*\"time\" + 0.003*\"school\" + 0.002*\"years\" + 0.002*\"found\" + 0.002*\"woman\" + 0.002*\"men\" + 0.002*\"us\" + 0.002*\"ms\" + 0.002*\"shot\"')\n"
     ]
    }
   ],
   "source": [
    "topics = sg_lda.show_topics(10, 5)\n",
    "\n",
    "for i in range(0, 10):\n",
    "    print(topics[i])"
   ]
  },
  {
   "cell_type": "markdown",
   "metadata": {},
   "source": [
    "#### Analyse the output\n",
    "- By looking at the most important words under each topic, do you find the topics meaningful? How would you summarize or label each topic?\n",
    "\n",
    "- If you re-run the LDA code above, you'll get a different set of topics. This is because there is some randomness in the LDA algorithm. Try to re-run the code above to re-generate `sg_lda` and insepct the learned topics again.\n",
    "\n",
    "- The code above sets the number of topics to 10. You can try different numbers of topics (e.g., 5, 10, etc.) and see what the results look like.\n"
   ]
  },
  {
   "cell_type": "markdown",
   "metadata": {},
   "source": [
    "### Visualizations\n",
    "\n",
    "pyLDAvis is a python libarary for interactive topic model visualization. It is a port of the fabulous R package by Carson Sievert and Kenny Shirley. They did the hard work of crafting an effective visualization. pyLDAvis makes it easy to use the visualiziation from Python and, in particular, Jupyter notebooks. \n",
    "\n",
    "https://nbviewer.jupyter.org/github/bmabey/pyLDAvis/blob/master/notebooks/pyLDAvis_overview.ipynb#topic=0&lambda=1&term=\n"
   ]
  },
  {
   "cell_type": "code",
   "execution_count": null,
   "metadata": {
    "collapsed": true
   },
   "outputs": [],
   "source": [
    "#Install the package\n",
    "#!pip install pyldavis"
   ]
  },
  {
   "cell_type": "code",
   "execution_count": 5,
   "metadata": {
    "collapsed": true
   },
   "outputs": [],
   "source": [
    "#Set up the environment to display the graphical outputs\n",
    "import pyLDAvis.gensim\n",
    "pyLDAvis.enable_notebook()"
   ]
  },
  {
   "cell_type": "code",
   "execution_count": 6,
   "metadata": {},
   "outputs": [
    {
     "name": "stderr",
     "output_type": "stream",
     "text": [
      "C:\\Users\\swapnag\\AppData\\Local\\Continuum\\anaconda3\\lib\\site-packages\\pyLDAvis\\_prepare.py:257: FutureWarning: Sorting because non-concatenation axis is not aligned. A future version\n",
      "of pandas will change to not sort by default.\n",
      "\n",
      "To accept the future behavior, pass 'sort=False'.\n",
      "\n",
      "To retain the current behavior and silence the warning, pass 'sort=True'.\n",
      "\n",
      "  return pd.concat([default_term_info] + list(topic_dfs))\n"
     ]
    }
   ],
   "source": [
    "# Generate the visuals\n",
    "visual= pyLDAvis.gensim.prepare(sg_lda, sg_vecs, sg_dictionary)"
   ]
  },
  {
   "cell_type": "markdown",
   "metadata": {},
   "source": [
    "### Store the output and analyse the results"
   ]
  },
  {
   "cell_type": "code",
   "execution_count": 7,
   "metadata": {
    "collapsed": true
   },
   "outputs": [],
   "source": [
    "#Save the output to the html file\n",
    "pyLDAvis.save_html(visual, \"topic_viz.html\")"
   ]
  },
  {
   "cell_type": "markdown",
   "metadata": {},
   "source": [
    "The file topic_viz.html is stored in your directory. Open it and analyse.\n",
    "\n",
    "\n",
    "## Additional  Concepts \n",
    "\n",
    "### LDA Mallet Model\n",
    "\n",
    "Another LDA model from gensim and has better performance. I tried this last year for my reserach project and looks better."
   ]
  },
  {
   "cell_type": "code",
   "execution_count": 1,
   "metadata": {},
   "outputs": [
    {
     "ename": "NameError",
     "evalue": "name 'sg_vecs' is not defined",
     "output_type": "error",
     "traceback": [
      "\u001b[1;31m---------------------------------------------------------------------------\u001b[0m",
      "\u001b[1;31mNameError\u001b[0m                                 Traceback (most recent call last)",
      "\u001b[1;32m<ipython-input-1-fe2d28543df3>\u001b[0m in \u001b[0;36m<module>\u001b[1;34m()\u001b[0m\n\u001b[0;32m      8\u001b[0m \u001b[1;33m\u001b[0m\u001b[0m\n\u001b[0;32m      9\u001b[0m \u001b[0mmallet_path\u001b[0m \u001b[1;33m=\u001b[0m \u001b[1;34mr'D:\\Softwares\\mallet\\mallet-2.0.8\\bin\\mallet'\u001b[0m \u001b[1;31m# update this path\u001b[0m\u001b[1;33m\u001b[0m\u001b[0m\n\u001b[1;32m---> 10\u001b[1;33m \u001b[0mldamallet\u001b[0m \u001b[1;33m=\u001b[0m \u001b[0mgensim\u001b[0m\u001b[1;33m.\u001b[0m\u001b[0mmodels\u001b[0m\u001b[1;33m.\u001b[0m\u001b[0mwrappers\u001b[0m\u001b[1;33m.\u001b[0m\u001b[0mLdaMallet\u001b[0m\u001b[1;33m(\u001b[0m\u001b[0mmallet_path\u001b[0m\u001b[1;33m,\u001b[0m \u001b[0mcorpus\u001b[0m\u001b[1;33m=\u001b[0m\u001b[0msg_vecs\u001b[0m\u001b[1;33m,\u001b[0m \u001b[0miterations\u001b[0m\u001b[1;33m=\u001b[0m\u001b[0mno_iter\u001b[0m\u001b[1;33m,\u001b[0m \u001b[0mnum_topics\u001b[0m\u001b[1;33m=\u001b[0m\u001b[0mno_topics\u001b[0m\u001b[1;33m,\u001b[0m \u001b[0mid2word\u001b[0m\u001b[1;33m=\u001b[0m\u001b[0msg_dictionary\u001b[0m\u001b[1;33m)\u001b[0m\u001b[1;33m\u001b[0m\u001b[0m\n\u001b[0m",
      "\u001b[1;31mNameError\u001b[0m: name 'sg_vecs' is not defined"
     ]
    }
   ],
   "source": [
    "import gensim\n",
    "# Download File: http://mallet.cs.umass.edu/dist/mallet-2.0.8.zip\n",
    "import os\n",
    "os.environ.update({'MALLET_HOME':r'D:/Softwares/mallet/mallet-2.0.8/'})\n",
    "\n",
    "no_topics=10 #make this 2 to test. \n",
    "no_ter=1000 #make this 50 to test\n",
    "\n",
    "mallet_path = r'D:\\Softwares\\mallet\\mallet-2.0.8\\bin\\mallet' # update this path\n",
    "ldamallet = gensim.models.wrappers.LdaMallet(mallet_path, corpus=sg_vecs, iterations=no_iter, num_topics=no_topics, id2word=sg_dictionary)\n"
   ]
  },
  {
   "cell_type": "code",
   "execution_count": 11,
   "metadata": {},
   "outputs": [
    {
     "name": "stdout",
     "output_type": "stream",
     "text": [
      "(0, '0.012*\"team\" + 0.008*\"game\" + 0.007*\"games\" + 0.007*\"win\" + 0.007*\"league\" + 0.006*\"final\" + 0.006*\"time\" + 0.006*\"club\" + 0.006*\"season\" + 0.006*\"players\"')\n",
      "(1, '0.010*\"show\" + 0.006*\"film\" + 0.006*\"music\" + 0.004*\"love\" + 0.004*\"time\" + 0.004*\"star\" + 0.004*\"life\" + 0.003*\"singer\" + 0.003*\"fans\" + 0.003*\"tv\"')\n",
      "(2, '0.013*\"north\" + 0.012*\"security\" + 0.010*\"killed\" + 0.008*\"korea\" + 0.007*\"military\" + 0.007*\"syria\" + 0.007*\"forces\" + 0.007*\"government\" + 0.006*\"launch\" + 0.006*\"south\"')\n",
      "(3, '0.014*\"president\" + 0.012*\"party\" + 0.011*\"minister\" + 0.011*\"government\" + 0.009*\"country\" + 0.009*\"political\" + 0.007*\"obama\" + 0.007*\"myanmar\" + 0.007*\"prime\" + 0.006*\"election\"')\n",
      "(4, '0.015*\"cent\" + 0.014*\"million\" + 0.009*\"company\" + 0.007*\"billion\" + 0.006*\"online\" + 0.006*\"market\" + 0.005*\"business\" + 0.005*\"facebook\" + 0.005*\"internet\" + 0.005*\"social\"')\n",
      "(5, '0.013*\"court\" + 0.009*\"ldquo\" + 0.008*\"case\" + 0.008*\"rdquo\" + 0.008*\"news\" + 0.008*\"media\" + 0.006*\"public\" + 0.005*\"family\" + 0.005*\"law\" + 0.005*\"accused\"')\n",
      "(6, '0.007*\"city\" + 0.006*\"area\" + 0.005*\"water\" + 0.004*\"local\" + 0.004*\"tokyo\" + 0.004*\"air\" + 0.004*\"agency\" + 0.004*\"indonesia\" + 0.004*\"power\" + 0.004*\"fire\"')\n",
      "(7, '0.019*\"mr\" + 0.009*\"school\" + 0.008*\"children\" + 0.007*\"lee\" + 0.006*\"family\" + 0.006*\"time\" + 0.006*\"students\" + 0.005*\"work\" + 0.005*\"tan\" + 0.005*\"space\"')\n",
      "(8, '0.040*\"china\" + 0.020*\"chinese\" + 0.011*\"beijing\" + 0.010*\"japan\" + 0.009*\"government\" + 0.009*\"states\" + 0.009*\"united\" + 0.009*\"foreign\" + 0.009*\"south\" + 0.008*\"countries\"')\n",
      "(9, '0.039*\"police\" + 0.013*\"man\" + 0.010*\"found\" + 0.010*\"arrested\" + 0.009*\"men\" + 0.008*\"reported\" + 0.008*\"woman\" + 0.007*\"years\" + 0.006*\"car\" + 0.006*\"officers\"')\n"
     ]
    }
   ],
   "source": [
    "# Show Topics\n",
    "#print(ldamallet.show_topics(formatted=False))\n",
    "#print(ldamallet.show_topics())\n",
    "\n",
    "vecTop= ldamallet.show_topics()\n",
    "for i in range(0, 10):\n",
    "    print(vecTop[i])"
   ]
  },
  {
   "cell_type": "markdown",
   "metadata": {},
   "source": [
    "Analyse the results. Compare the topics with the previous LDA model.\n",
    "\n",
    "\n",
    "### Perplexity and Coherence Score\n",
    "\n",
    "Perplexity and topic coherence scoring provide a convenient measure to judge how good a given topic model"
   ]
  },
  {
   "cell_type": "code",
   "execution_count": 19,
   "metadata": {},
   "outputs": [
    {
     "name": "stdout",
     "output_type": "stream",
     "text": [
      "\n",
      "Coherence Score LDAMallet:  0.5583612368917332\n",
      "\n",
      "Coherence Score DAModel:  0.37248441145157163\n"
     ]
    }
   ],
   "source": [
    "# Compute Coherence Score\n",
    "from gensim.models import CoherenceModel\n",
    "coherence_model_ldamallet = CoherenceModel(model=ldamallet, texts=sg_docs, dictionary=sg_dictionary, coherence='c_v')\n",
    "coherence_ldamallet = coherence_model_ldamallet.get_coherence()\n",
    "print('\\nCoherence Score LDAMallet: ', coherence_ldamallet)\n",
    "\n",
    "coherence_model_lda = CoherenceModel(model=sg_lda, texts=sg_docs, dictionary=sg_dictionary, coherence='c_v')\n",
    "coherence_lda = coherence_model_lda.get_coherence()\n",
    "print('\\nCoherence Score LDAModel: ', coherence_lda)"
   ]
  },
  {
   "cell_type": "markdown",
   "metadata": {},
   "source": [
    "### How to choose the optimal number of the topics?\n",
    "\n",
    "On approach to finding the optimal number of topics is to build many LDA models with different values of number of topics (k) and pick the one that gives the highest coherence value.\n",
    "\n",
    "Choosing a ‘k’ that marks the end of a rapid growth of topic coherence usually offers meaningful and interpretable topics. Picking an even higher value can sometimes provide more granular sub-topics.\n",
    "\n",
    "If you see the same keywords being repeated in multiple topics, it’s probably a sign that the ‘k’ is too large.\n"
   ]
  },
  {
   "cell_type": "code",
   "execution_count": 20,
   "metadata": {},
   "outputs": [
    {
     "name": "stdout",
     "output_type": "stream",
     "text": [
      "2020-02-19 12:54:30.074383\n",
      "#Topics: 2 Score: 0.5687522490274634\n",
      "#Topics: 4 Score: 0.5294431315293604\n",
      "#Topics: 6 Score: 0.5630707191924498\n",
      "#Topics: 8 Score: 0.5682421663807438\n",
      "2020-02-19 13:03:18.575031\n"
     ]
    }
   ],
   "source": [
    "# Can take a long time to run. In this case we are going to  k_max=10.\n",
    "import datetime\n",
    "print(datetime.datetime.now())\n",
    "\n",
    "from gensim.models import CoherenceModel\n",
    "\n",
    "model_list = []\n",
    "coherence_values = []\n",
    "model_topics = []\n",
    "\n",
    "for num_topics in range(2, 10, 2):\n",
    "    #sg_lda_x = gensim.models.ldamodel.LdaModel(corpus=sg_vecs, id2word=sg_dictionary, num_topics=num_topics)\n",
    "    sg_lda_x = gensim.models.wrappers.LdaMallet(mallet_path, iterations=100, corpus=sg_vecs, num_topics=no_topics, id2word=sg_dictionary)\n",
    "    coherencemodel = CoherenceModel(model=sg_lda_x, texts=sg_docs, dictionary=sg_dictionary, coherence='c_v')\n",
    "    model_topics.append(num_topics)\n",
    "    model_list.append(sg_lda_x)\n",
    "    coherence_values.append(coherencemodel.get_coherence())\n",
    "    print(\"#Topics: \" + str(num_topics) + \" Score: \" + str(coherencemodel.get_coherence()))\n",
    "\n",
    "print(datetime.datetime.now())"
   ]
  },
  {
   "cell_type": "markdown",
   "metadata": {},
   "source": [
    "### Graphical Representation of the Coherence Score\n",
    "\n",
    "Pyplot is a python library that provides functions to plot the graphs. In our case, we want to plot the graph with num of topics Vs Coherence scores of the model. \n"
   ]
  },
  {
   "cell_type": "code",
   "execution_count": 21,
   "metadata": {},
   "outputs": [
    {
     "data": {
      "image/png": "[encoded data removed]",
      "text/plain": [
       "<matplotlib.figure.Figure at 0x27517c0d908>"
      ]
     },
     "metadata": {},
     "output_type": "display_data"
    }
   ],
   "source": [
    "# Show graph\n",
    "\n",
    "import matplotlib.pyplot as plt\n",
    "\n",
    "limit=10; start=2; step=2;\n",
    "x = range(start, limit, step)\n",
    "plt.plot(x, coherence_values)\n",
    "plt.xlabel(\"Num Topics\")\n",
    "plt.ylabel(\"Coherence score\")\n",
    "plt.legend((\"coherence_values\"), loc='best')\n",
    "plt.show()"
   ]
  },
  {
   "cell_type": "code",
   "execution_count": 23,
   "metadata": {},
   "outputs": [
    {
     "name": "stdout",
     "output_type": "stream",
     "text": [
      "Num Topics = 2  has Coherence Value of 0.5688\n",
      "Num Topics = 4  has Coherence Value of 0.5294\n",
      "Num Topics = 6  has Coherence Value of 0.5631\n",
      "Num Topics = 8  has Coherence Value of 0.5682\n"
     ]
    }
   ],
   "source": [
    "# Print the coherence scores\n",
    "for m, cv in zip(x, coherence_values):\n",
    "    print(\"Num Topics =\", m, \" has Coherence Value of\", round(cv, 4))"
   ]
  },
  {
   "cell_type": "markdown",
   "metadata": {},
   "source": [
    "###  Most Dominant Topic for each Document\n",
    "\n",
    "One of the practical application of topic modeling is to determine what topic a given document is about.\n",
    "\n",
    "To find that, we find the topic number that has the highest percentage contribution in that document. We need to first decide on the optimal LDA model from the previous graph "
   ]
  },
  {
   "cell_type": "code",
   "execution_count": 22,
   "metadata": {},
   "outputs": [
    {
     "data": {
      "text/html": [
       "<div>\n",
       "<style scoped>\n",
       "    .dataframe tbody tr th:only-of-type {\n",
       "        vertical-align: middle;\n",
       "    }\n",
       "\n",
       "    .dataframe tbody tr th {\n",
       "        vertical-align: top;\n",
       "    }\n",
       "\n",
       "    .dataframe thead th {\n",
       "        text-align: right;\n",
       "    }\n",
       "</style>\n",
       "<table border=\"1\" class=\"dataframe\">\n",
       "  <thead>\n",
       "    <tr style=\"text-align: right;\">\n",
       "      <th></th>\n",
       "      <th>Document_No</th>\n",
       "      <th>Dominant_Topic</th>\n",
       "      <th>Topic_Perc_Contrib</th>\n",
       "      <th>Keywords</th>\n",
       "      <th>Text</th>\n",
       "    </tr>\n",
       "  </thead>\n",
       "  <tbody>\n",
       "    <tr>\n",
       "      <th>0</th>\n",
       "      <td>0</td>\n",
       "      <td>1.0</td>\n",
       "      <td>0.2072</td>\n",
       "      <td>show, film, music, love, time, star, life, sin...</td>\n",
       "      <td>[mumbai, designed, reduce, stress, improve, la...</td>\n",
       "    </tr>\n",
       "    <tr>\n",
       "      <th>1</th>\n",
       "      <td>1</td>\n",
       "      <td>6.0</td>\n",
       "      <td>0.2464</td>\n",
       "      <td>city, area, water, local, tokyo, air, agency, ...</td>\n",
       "      <td>[seoul, sirens, ring, across, south, korea, th...</td>\n",
       "    </tr>\n",
       "    <tr>\n",
       "      <th>2</th>\n",
       "      <td>2</td>\n",
       "      <td>3.0</td>\n",
       "      <td>0.3872</td>\n",
       "      <td>president, party, minister, government, countr...</td>\n",
       "      <td>[yangon, myanmar, leader, vowed, tuesday, put,...</td>\n",
       "    </tr>\n",
       "    <tr>\n",
       "      <th>3</th>\n",
       "      <td>3</td>\n",
       "      <td>6.0</td>\n",
       "      <td>0.5771</td>\n",
       "      <td>city, area, water, local, tokyo, air, agency, ...</td>\n",
       "      <td>[jakarta, rescuers, still, missing, days, wood...</td>\n",
       "    </tr>\n",
       "    <tr>\n",
       "      <th>4</th>\n",
       "      <td>4</td>\n",
       "      <td>6.0</td>\n",
       "      <td>0.3376</td>\n",
       "      <td>city, area, water, local, tokyo, air, agency, ...</td>\n",
       "      <td>[colombo, sri, lankan, court, jailed, four, st...</td>\n",
       "    </tr>\n",
       "    <tr>\n",
       "      <th>5</th>\n",
       "      <td>5</td>\n",
       "      <td>8.0</td>\n",
       "      <td>0.1870</td>\n",
       "      <td>china, chinese, beijing, japan, government, st...</td>\n",
       "      <td>[official, central, china, henan, province, sl...</td>\n",
       "    </tr>\n",
       "    <tr>\n",
       "      <th>6</th>\n",
       "      <td>6</td>\n",
       "      <td>5.0</td>\n",
       "      <td>0.4377</td>\n",
       "      <td>court, ldquo, case, rdquo, news, media, public...</td>\n",
       "      <td>[party, chief, southwest, china, chongqing, mu...</td>\n",
       "    </tr>\n",
       "    <tr>\n",
       "      <th>7</th>\n",
       "      <td>7</td>\n",
       "      <td>2.0</td>\n",
       "      <td>0.2877</td>\n",
       "      <td>north, security, killed, korea, military, syri...</td>\n",
       "      <td>[manila, philippines, although, police, author...</td>\n",
       "    </tr>\n",
       "    <tr>\n",
       "      <th>8</th>\n",
       "      <td>8</td>\n",
       "      <td>3.0</td>\n",
       "      <td>0.5283</td>\n",
       "      <td>president, party, minister, government, countr...</td>\n",
       "      <td>[leading, figures, opposition, democrat, party...</td>\n",
       "    </tr>\n",
       "    <tr>\n",
       "      <th>9</th>\n",
       "      <td>9</td>\n",
       "      <td>4.0</td>\n",
       "      <td>0.2727</td>\n",
       "      <td>cent, million, company, billion, online, marke...</td>\n",
       "      <td>[beijing, guangzhou, residents, satisfied, qua...</td>\n",
       "    </tr>\n",
       "  </tbody>\n",
       "</table>\n",
       "</div>"
      ],
      "text/plain": [
       "   Document_No  Dominant_Topic  Topic_Perc_Contrib  \\\n",
       "0            0             1.0              0.2072   \n",
       "1            1             6.0              0.2464   \n",
       "2            2             3.0              0.3872   \n",
       "3            3             6.0              0.5771   \n",
       "4            4             6.0              0.3376   \n",
       "5            5             8.0              0.1870   \n",
       "6            6             5.0              0.4377   \n",
       "7            7             2.0              0.2877   \n",
       "8            8             3.0              0.5283   \n",
       "9            9             4.0              0.2727   \n",
       "\n",
       "                                            Keywords  \\\n",
       "0  show, film, music, love, time, star, life, sin...   \n",
       "1  city, area, water, local, tokyo, air, agency, ...   \n",
       "2  president, party, minister, government, countr...   \n",
       "3  city, area, water, local, tokyo, air, agency, ...   \n",
       "4  city, area, water, local, tokyo, air, agency, ...   \n",
       "5  china, chinese, beijing, japan, government, st...   \n",
       "6  court, ldquo, case, rdquo, news, media, public...   \n",
       "7  north, security, killed, korea, military, syri...   \n",
       "8  president, party, minister, government, countr...   \n",
       "9  cent, million, company, billion, online, marke...   \n",
       "\n",
       "                                                Text  \n",
       "0  [mumbai, designed, reduce, stress, improve, la...  \n",
       "1  [seoul, sirens, ring, across, south, korea, th...  \n",
       "2  [yangon, myanmar, leader, vowed, tuesday, put,...  \n",
       "3  [jakarta, rescuers, still, missing, days, wood...  \n",
       "4  [colombo, sri, lankan, court, jailed, four, st...  \n",
       "5  [official, central, china, henan, province, sl...  \n",
       "6  [party, chief, southwest, china, chongqing, mu...  \n",
       "7  [manila, philippines, although, police, author...  \n",
       "8  [leading, figures, opposition, democrat, party...  \n",
       "9  [beijing, guangzhou, residents, satisfied, qua...  "
      ]
     },
     "execution_count": 22,
     "metadata": {},
     "output_type": "execute_result"
    }
   ],
   "source": [
    "#Find most dominant topic\n",
    "\n",
    "import numpy as np\n",
    "import pandas as pd\n",
    "\n",
    "def format_topics_sentences(ldamodel, corpus, data):\n",
    "    # Init output\n",
    "    sent_topics_df = pd.DataFrame()\n",
    "\n",
    "    # Get main topic in each document\n",
    "    for i, row in enumerate(ldamodel[corpus]):\n",
    "        row = sorted(row, key=lambda x: (x[1]), reverse=True)\n",
    "        # Get the Dominant topic, Perc Contribution and Keywords for each document\n",
    "        for j, (topic_num, prop_topic) in enumerate(row):\n",
    "            if j == 0:  # => dominant topic\n",
    "                wp = ldamodel.show_topic(topic_num)\n",
    "                topic_keywords = \", \".join([word for word, prop in wp])\n",
    "                sent_topics_df = sent_topics_df.append(pd.Series([int(topic_num), round(prop_topic,4), topic_keywords]), ignore_index=True)\n",
    "            else:\n",
    "                break\n",
    "    sent_topics_df.columns = ['Dominant_Topic', 'Perc_Contribution', 'Topic_Keywords']\n",
    "\n",
    "    # Add original text to the end of the output\n",
    "    contents = pd.Series(data)\n",
    "    sent_topics_df = pd.concat([sent_topics_df, contents], axis=1)\n",
    "    return(sent_topics_df)\n",
    "\n",
    "#I choose model_list[1] where the number of topics is 4\n",
    "\n",
    "#df_topic_sents_keywords = format_topics_sentences(ldamodel=model_list[1], corpus=sg_vecs, data=sg_docs)\n",
    "df_topic_sents_keywords = format_topics_sentences(ldamodel=ldamallet, corpus=sg_vecs, data=sg_docs)\n",
    "\n",
    "# Format\n",
    "df_dominant_topic = df_topic_sents_keywords.reset_index()\n",
    "df_dominant_topic.columns = ['Document_No', 'Dominant_Topic', 'Topic_Perc_Contrib', 'Keywords', 'Text']\n",
    "\n",
    "# Show\n",
    "df_dominant_topic.head(10)\n"
   ]
  },
  {
   "cell_type": "markdown",
   "metadata": {},
   "source": [
    "### Save the Model\n",
    "\n",
    "Saving model for future use will save the time on the iterations. It is often needed to save to model to reuse in the future. "
   ]
  },
  {
   "cell_type": "code",
   "execution_count": 24,
   "metadata": {
    "collapsed": true
   },
   "outputs": [],
   "source": [
    "#Save a model to disk, or reload a pre-trained model\n",
    "sg_lda_sav=ldamallet #Or you can save the best model, model_list[1]\n",
    "\n",
    "sg_lda_sav.save(\"sg_lda_mallet\")\n",
    "\n",
    "lda_disk=gensim.models.wrappers.LdaMallet.load(\"sg_lda_mallet\")"
   ]
  },
  {
   "cell_type": "markdown",
   "metadata": {},
   "source": [
    "### Save the LDA distributions theta and beta\n",
    "\n",
    "Saving the outputs to a csv file enables us to quickly analyse the data - mainly the topics in a friendly UI. We do not want to train the model every time as it may be expensive. "
   ]
  },
  {
   "cell_type": "code",
   "execution_count": 25,
   "metadata": {
    "collapsed": true
   },
   "outputs": [],
   "source": [
    "#Code to save the document topic probabilities (theta)\n",
    "import pandas as pd\n",
    "\n",
    "vec=sg_lda_sav[sg_vecs]\n",
    "pd.DataFrame(vec).to_csv(\"doc_topic_mixture.csv\")"
   ]
  },
  {
   "cell_type": "code",
   "execution_count": 26,
   "metadata": {
    "collapsed": true
   },
   "outputs": [],
   "source": [
    "# Write code here to save top 10 words for each topic (beta)\n",
    "top_words_per_topic = []\n",
    "for t in range(sg_lda_sav.num_topics):\n",
    "    top_words_per_topic.extend([(t, ) + x for x in sg_lda_sav.show_topic(t, topn = 10)])\n",
    "\n",
    "pd.DataFrame(top_words_per_topic, columns=['Topic', 'Word', 'P']).to_csv(\"top_words.csv\")\n"
   ]
  },
  {
   "cell_type": "markdown",
   "metadata": {},
   "source": [
    "#### Analysis\n",
    "Analyse the output with the actual documents. Are the topics relevant? Also use the most dominant topic and analyse."
   ]
  },
  {
   "cell_type": "markdown",
   "metadata": {
    "collapsed": true
   },
   "source": [
    "### Resources\n",
    "- LDA Mallet\n",
    "\n",
    "https://www.machinelearningplus.com/nlp/topic-modeling-gensim-python/#20topicdistributionacrossdocuments\n",
    "\n",
    "- Gensim LDA Model\n",
    "\n",
    "https://towardsdatascience.com/evaluate-topic-model-in-python-latent-dirichlet-allocation-lda-7d57484bb5d0\n",
    "\n",
    "- Sklearn LDA Model\n",
    "\n",
    "https://www.machinelearningplus.com/nlp/topic-modeling-python-sklearn-examples/#1introduction\n"
   ]
  },
  {
   "cell_type": "code",
   "execution_count": null,
   "metadata": {
    "collapsed": true
   },
   "outputs": [],
   "source": []
  }
 ],
 "metadata": {
  "kernelspec": {
   "display_name": "Python 3",
   "language": "python",
   "name": "python3"
  },
  "language_info": {
   "codemirror_mode": {
    "name": "ipython",
    "version": 3
   },
   "file_extension": ".py",
   "mimetype": "text/x-python",
   "name": "python",
   "nbconvert_exporter": "python",
   "pygments_lexer": "ipython3",
   "version": "3.7.4"
  }
 },
 "nbformat": 4,
 "nbformat_minor": 2
}